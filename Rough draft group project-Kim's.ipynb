{
 "cells": [
  {
   "cell_type": "markdown",
   "id": "ae943774",
   "metadata": {},
   "source": [
    "## Package Import"
   ]
  },
  {
   "cell_type": "code",
   "execution_count": 524,
   "id": "d634a45d",
   "metadata": {},
   "outputs": [],
   "source": [
    "import pandas as pd\n",
    "import numpy as np\n",
    "from sklearn.model_selection import train_test_split\n",
    "from sklearn.ensemble import RandomForestClassifier\n",
    "from sklearn.metrics import accuracy_score\n",
    "from sklearn.metrics import confusion_matrix\n",
    "from sklearn.metrics import precision_score, recall_score, f1_score\n",
    "from sklearn.metrics import roc_curve, auc\n",
    "from sklearn.linear_model import LogisticRegression\n",
    "from sklearn.metrics import accuracy_score\n",
    "from sklearn.impute import SimpleImputer\n",
    "from sklearn.preprocessing import StandardScaler\n",
    "from sklearn.model_selection import cross_val_score\n",
    "from sklearn.tree import plot_tree\n",
    "from xgboost import XGBClassifier\n",
    "\n",
    "import seaborn as sns\n",
    "import matplotlib.pyplot as plt"
   ]
  },
  {
   "cell_type": "markdown",
   "id": "50aaf4a7",
   "metadata": {},
   "source": [
    "## File Upload into Env"
   ]
  },
  {
   "cell_type": "code",
   "execution_count": 525,
   "id": "839bec75",
   "metadata": {},
   "outputs": [
    {
     "name": "stderr",
     "output_type": "stream",
     "text": [
      "C:\\Users\\Owner\\AppData\\Local\\Temp\\ipykernel_23284\\3497087744.py:14: DtypeWarning: Columns (90) have mixed types. Specify dtype option on import or set low_memory=False.\n",
      "  df = pd.read_csv(file_url)\n"
     ]
    }
   ],
   "source": [
    "# Public URL after making the file public in the format 'https://storage.googleapis.com/...'\n",
    "file_url = 'https://storage.googleapis.com/home_credit_files/application_train.csv'\n",
    "test_url = 'https://storage.googleapis.com/home_credit_files/application_test.csv'\n",
    "# POS_CASH_balance_url = 'https://storage.googleapis.com/home_credit_files/POS_CASH_balance.csv'\n",
    "# bureau_url = 'https://storage.googleapis.com/home_credit_files/bureau.csv'\n",
    "# bureau_balance_url = 'https://storage.googleapis.com/home_credit_files/bureau.csv'\n",
    "# credit_card_balance = 'https://storage.googleapis.com/home_credit_files/credit_card_balance.csv'\n",
    "# installments_payments = 'https://storage.googleapis.com/home_credit_files/credit_card_balance.csv'\n",
    "# previous_application = 'https://storage.googleapis.com/home_credit_files/previous_application.csv'\n",
    "sample_sub = 'https://storage.googleapis.com/home_credit_files/sample_submission.csv'\n",
    "\n",
    "\n",
    "# Read the CSV directly from the URL\n",
    "df = pd.read_csv(file_url)\n",
    "test_df = pd.read_csv(test_url)\n",
    "\n",
    "#print(df.head())"
   ]
  },
  {
   "cell_type": "markdown",
   "id": "e9c84ee0",
   "metadata": {},
   "source": [
    "## EDA"
   ]
  },
  {
   "cell_type": "code",
   "execution_count": 526,
   "id": "7734857e",
   "metadata": {},
   "outputs": [
    {
     "name": "stdout",
     "output_type": "stream",
     "text": [
      "(307511, 122)\n"
     ]
    }
   ],
   "source": [
    "print(df.shape)"
   ]
  },
  {
   "cell_type": "code",
   "execution_count": 527,
   "id": "d92972e3",
   "metadata": {},
   "outputs": [
    {
     "data": {
      "text/plain": [
       "TARGET\n",
       "0    282686\n",
       "1     24825\n",
       "Name: count, dtype: int64"
      ]
     },
     "execution_count": 527,
     "metadata": {},
     "output_type": "execute_result"
    }
   ],
   "source": [
    "df['TARGET'].value_counts()"
   ]
  },
  {
   "cell_type": "code",
   "execution_count": 528,
   "id": "c29d837e",
   "metadata": {},
   "outputs": [
    {
     "data": {
      "text/plain": [
       "TARGET\n",
       "0    91.927118\n",
       "1     8.072882\n",
       "Name: proportion, dtype: float64"
      ]
     },
     "execution_count": 528,
     "metadata": {},
     "output_type": "execute_result"
    }
   ],
   "source": [
    "df['TARGET'].value_counts(normalize = True) * 100"
   ]
  },
  {
   "cell_type": "markdown",
   "id": "c65bc9d0",
   "metadata": {},
   "source": [
    "### Evaluating Missingness"
   ]
  },
  {
   "cell_type": "code",
   "execution_count": 529,
   "id": "ad44bdb8",
   "metadata": {},
   "outputs": [],
   "source": [
    "# Train data set\n",
    "\n",
    "# calculate total number of missing values for each column\n",
    "missing_values_train = df.isnull().sum()\n",
    "\n",
    "# calculate total number of rows\n",
    "total_rows_train = df.shape[0]\n",
    "\n",
    "# calculate percentage of missing values for each column\n",
    "pct_missing_train = (missing_values_train / total_rows_train) * 100\n",
    "\n",
    "# sort output\n",
    "pct_missing_sorted_train = pct_missing_train.sort_values(ascending=False)"
   ]
  },
  {
   "cell_type": "code",
   "execution_count": 530,
   "id": "ec216893",
   "metadata": {},
   "outputs": [],
   "source": [
    "missings = pct_missing_sorted_train.to_frame(name='MissingPercentage')"
   ]
  },
  {
   "cell_type": "markdown",
   "id": "52e4d91c",
   "metadata": {},
   "source": [
    "### Removing columns with greater than 10% missing values"
   ]
  },
  {
   "cell_type": "code",
   "execution_count": 531,
   "id": "3431d878",
   "metadata": {},
   "outputs": [
    {
     "data": {
      "text/plain": [
       "(65, 1)"
      ]
     },
     "execution_count": 531,
     "metadata": {},
     "output_type": "execute_result"
    }
   ],
   "source": [
    "filter_missings = missings[(missings['MissingPercentage'] < 10)]\n",
    "filter_missings.shape"
   ]
  },
  {
   "cell_type": "markdown",
   "id": "9cd5d19f",
   "metadata": {},
   "source": [
    "### Removing 'FLAG' columns and ID column"
   ]
  },
  {
   "cell_type": "code",
   "execution_count": 532,
   "id": "e33e4b21",
   "metadata": {},
   "outputs": [],
   "source": [
    "columns = list(filter_missings.index)\n",
    "column_list = [item for item in columns if 'FLAG' not in item]\n",
    "#column_list_2 = [item for item in column_list if 'TARGET' not in item]\n",
    "#column_list_3 = [item for item in column_list if 'SK_ID_CURR' not in item]"
   ]
  },
  {
   "cell_type": "markdown",
   "id": "eabcb8ab",
   "metadata": {},
   "source": [
    "### Removing additional unhelpful columns"
   ]
  },
  {
   "cell_type": "code",
   "execution_count": 533,
   "id": "33bc77ab",
   "metadata": {},
   "outputs": [
    {
     "data": {
      "text/plain": [
       "['EXT_SOURCE_2',\n",
       " 'AMT_GOODS_PRICE',\n",
       " 'AMT_ANNUITY',\n",
       " 'CNT_FAM_MEMBERS',\n",
       " 'DAYS_LAST_PHONE_CHANGE',\n",
       " 'CNT_CHILDREN',\n",
       " 'NAME_CONTRACT_TYPE',\n",
       " 'CODE_GENDER',\n",
       " 'AMT_CREDIT',\n",
       " 'AMT_INCOME_TOTAL',\n",
       " 'LIVE_CITY_NOT_WORK_CITY',\n",
       " 'REG_CITY_NOT_WORK_CITY',\n",
       " 'TARGET',\n",
       " 'REG_CITY_NOT_LIVE_CITY',\n",
       " 'LIVE_REGION_NOT_WORK_REGION',\n",
       " 'REG_REGION_NOT_WORK_REGION',\n",
       " 'REG_REGION_NOT_LIVE_REGION',\n",
       " 'HOUR_APPR_PROCESS_START',\n",
       " 'WEEKDAY_APPR_PROCESS_START',\n",
       " 'REGION_RATING_CLIENT_W_CITY',\n",
       " 'REGION_RATING_CLIENT',\n",
       " 'ORGANIZATION_TYPE',\n",
       " 'DAYS_ID_PUBLISH',\n",
       " 'DAYS_REGISTRATION',\n",
       " 'DAYS_EMPLOYED',\n",
       " 'DAYS_BIRTH',\n",
       " 'REGION_POPULATION_RELATIVE',\n",
       " 'NAME_HOUSING_TYPE',\n",
       " 'NAME_FAMILY_STATUS',\n",
       " 'NAME_EDUCATION_TYPE',\n",
       " 'NAME_INCOME_TYPE',\n",
       " 'SK_ID_CURR']"
      ]
     },
     "execution_count": 533,
     "metadata": {},
     "output_type": "execute_result"
    }
   ],
   "source": [
    "list1 = column_list\n",
    "list2 = ['NAME_TYPE_SUITE', 'OBS_30_CNT_SOCIAL_CIRCLE', 'DEF_30_CNT_SOCIAL_CIRCLE','OBS_60_CNT_SOCIAL_CIRCLE','DEF_60_CNT_SOCIAL_CIRCLE']\n",
    "\n",
    "# Initialize an empty list to store items from list1 that are not in list2\n",
    "items_not_in_list2 = []\n",
    "\n",
    "# Iterate through each item in list1\n",
    "for item in list1:\n",
    "    # Check if the item is not in list2\n",
    "    if item not in list2:\n",
    "        # Add the item to the items_not_in_list2 list\n",
    "        items_not_in_list2.append(item)\n",
    "\n",
    "# Print the items that are not in list2\n",
    "items_not_in_list2\n"
   ]
  },
  {
   "cell_type": "code",
   "execution_count": 534,
   "id": "93bf9518",
   "metadata": {},
   "outputs": [
    {
     "data": {
      "text/plain": [
       "32"
      ]
     },
     "execution_count": 534,
     "metadata": {},
     "output_type": "execute_result"
    }
   ],
   "source": [
    "len(items_not_in_list2)\n"
   ]
  },
  {
   "cell_type": "code",
   "execution_count": 535,
   "id": "53e7bf2e",
   "metadata": {},
   "outputs": [],
   "source": [
    "pd.set_option('display.max_columns', None)\n",
    "selected_df = df[items_not_in_list2]\n",
    "selected_df\n",
    "\n",
    "test_filtered_columns = [item for item in items_not_in_list2 if item != 'TARGET']\n",
    "test_selected_df = test_df[test_filtered_columns]"
   ]
  },
  {
   "cell_type": "code",
   "execution_count": 536,
   "id": "38db0820",
   "metadata": {},
   "outputs": [],
   "source": [
    "# Extract the 'TARGET' column\n",
    "target = selected_df['TARGET']\n",
    "\n",
    "# Remove the 'TARGET' column from the dataframe and reassign the result back to selected_df\n",
    "selected_df = selected_df.drop(columns=['TARGET'])\n",
    "\n",
    "# Insert the 'TARGET' column at the beginning of the dataframe\n",
    "selected_df.insert(0, 'TARGET', target)"
   ]
  },
  {
   "cell_type": "markdown",
   "id": "cd6c523e",
   "metadata": {},
   "source": [
    "### Fix problematic values"
   ]
  },
  {
   "cell_type": "code",
   "execution_count": 537,
   "id": "a8df3ec3",
   "metadata": {},
   "outputs": [],
   "source": [
    "selected_df.loc[:, 'DAYS_EMPLOYED'] = selected_df['DAYS_EMPLOYED'].replace(365243, 0)\n",
    "selected_df = selected_df[selected_df['AMT_INCOME_TOTAL'] <= 9000000]\n",
    "\n",
    "test_selected_df.loc[:, 'DAYS_EMPLOYED'] = test_selected_df['DAYS_EMPLOYED'].replace(365243, 0)\n",
    "test_selected_df = test_selected_df[test_selected_df['AMT_INCOME_TOTAL'] <= 9000000]"
   ]
  },
  {
   "cell_type": "code",
   "execution_count": 538,
   "id": "b53c84dc",
   "metadata": {},
   "outputs": [
    {
     "name": "stdout",
     "output_type": "stream",
     "text": [
      "(307508, 32)\n",
      "(48744, 31)\n"
     ]
    }
   ],
   "source": [
    "print(selected_df.shape)\n",
    "print(test_selected_df.shape)"
   ]
  },
  {
   "cell_type": "code",
   "execution_count": 539,
   "id": "d8de43df",
   "metadata": {},
   "outputs": [],
   "source": [
    "selected_df = selected_df.drop(columns = ['HOUR_APPR_PROCESS_START', 'DAYS_ID_PUBLISH'])\n",
    "test_selected_df = test_selected_df.drop(columns = ['HOUR_APPR_PROCESS_START', 'DAYS_ID_PUBLISH'])"
   ]
  },
  {
   "cell_type": "code",
   "execution_count": 540,
   "id": "37eb382c",
   "metadata": {},
   "outputs": [
    {
     "data": {
      "text/plain": [
       "set()"
      ]
     },
     "execution_count": 540,
     "metadata": {},
     "output_type": "execute_result"
    }
   ],
   "source": [
    "set(test_selected_df)-set(selected_df)"
   ]
  },
  {
   "cell_type": "code",
   "execution_count": 541,
   "id": "9b449bc5",
   "metadata": {},
   "outputs": [],
   "source": [
    "# Abs value of negatives\n",
    "selected_df['DAYS_LAST_PHONE_CHANGE'] = selected_df.loc[:, 'DAYS_LAST_PHONE_CHANGE'].abs()\n",
    "selected_df['DAYS_REGISTRATION'] = selected_df.loc[:, 'DAYS_REGISTRATION'].abs()\n",
    "selected_df['DAYS_EMPLOYED'] = selected_df.loc[:, 'DAYS_EMPLOYED'].abs()\n",
    "selected_df['DAYS_BIRTH'] = selected_df.loc[:, 'DAYS_BIRTH'].abs()\n",
    "\n",
    "test_selected_df['DAYS_LAST_PHONE_CHANGE'] = test_selected_df.loc[:, 'DAYS_LAST_PHONE_CHANGE'].abs()\n",
    "test_selected_df['DAYS_REGISTRATION'] = test_selected_df.loc[:, 'DAYS_REGISTRATION'].abs()\n",
    "test_selected_df['DAYS_EMPLOYED'] = test_selected_df.loc[:, 'DAYS_EMPLOYED'].abs()\n",
    "test_selected_df['DAYS_BIRTH'] = test_selected_df.loc[:, 'DAYS_BIRTH'].abs()"
   ]
  },
  {
   "cell_type": "markdown",
   "id": "33f4c07c",
   "metadata": {},
   "source": [
    "## Preparing Logistic Regression"
   ]
  },
  {
   "cell_type": "code",
   "execution_count": 542,
   "id": "8e6fac2b",
   "metadata": {},
   "outputs": [
    {
     "data": {
      "text/html": [
       "<div>\n",
       "<style scoped>\n",
       "    .dataframe tbody tr th:only-of-type {\n",
       "        vertical-align: middle;\n",
       "    }\n",
       "\n",
       "    .dataframe tbody tr th {\n",
       "        vertical-align: top;\n",
       "    }\n",
       "\n",
       "    .dataframe thead th {\n",
       "        text-align: right;\n",
       "    }\n",
       "</style>\n",
       "<table border=\"1\" class=\"dataframe\">\n",
       "  <thead>\n",
       "    <tr style=\"text-align: right;\">\n",
       "      <th></th>\n",
       "      <th>EXT_SOURCE_2</th>\n",
       "      <th>AMT_GOODS_PRICE</th>\n",
       "      <th>AMT_ANNUITY</th>\n",
       "      <th>CNT_FAM_MEMBERS</th>\n",
       "      <th>DAYS_LAST_PHONE_CHANGE</th>\n",
       "      <th>CNT_CHILDREN</th>\n",
       "      <th>AMT_CREDIT</th>\n",
       "      <th>AMT_INCOME_TOTAL</th>\n",
       "      <th>LIVE_CITY_NOT_WORK_CITY</th>\n",
       "      <th>REG_CITY_NOT_WORK_CITY</th>\n",
       "      <th>REG_CITY_NOT_LIVE_CITY</th>\n",
       "      <th>LIVE_REGION_NOT_WORK_REGION</th>\n",
       "      <th>REG_REGION_NOT_WORK_REGION</th>\n",
       "      <th>REG_REGION_NOT_LIVE_REGION</th>\n",
       "      <th>REGION_RATING_CLIENT_W_CITY</th>\n",
       "      <th>REGION_RATING_CLIENT</th>\n",
       "      <th>DAYS_REGISTRATION</th>\n",
       "      <th>DAYS_EMPLOYED</th>\n",
       "      <th>DAYS_BIRTH</th>\n",
       "      <th>REGION_POPULATION_RELATIVE</th>\n",
       "    </tr>\n",
       "  </thead>\n",
       "  <tbody>\n",
       "    <tr>\n",
       "      <th>0</th>\n",
       "      <td>0.789654</td>\n",
       "      <td>450000.0</td>\n",
       "      <td>20560.5</td>\n",
       "      <td>2.0</td>\n",
       "      <td>1740.0</td>\n",
       "      <td>0</td>\n",
       "      <td>568800.0</td>\n",
       "      <td>135000.0</td>\n",
       "      <td>0</td>\n",
       "      <td>0</td>\n",
       "      <td>0</td>\n",
       "      <td>0</td>\n",
       "      <td>0</td>\n",
       "      <td>0</td>\n",
       "      <td>2</td>\n",
       "      <td>2</td>\n",
       "      <td>5170.0</td>\n",
       "      <td>2329</td>\n",
       "      <td>19241</td>\n",
       "      <td>0.018850</td>\n",
       "    </tr>\n",
       "    <tr>\n",
       "      <th>1</th>\n",
       "      <td>0.291656</td>\n",
       "      <td>180000.0</td>\n",
       "      <td>17370.0</td>\n",
       "      <td>2.0</td>\n",
       "      <td>0.0</td>\n",
       "      <td>0</td>\n",
       "      <td>222768.0</td>\n",
       "      <td>99000.0</td>\n",
       "      <td>0</td>\n",
       "      <td>0</td>\n",
       "      <td>0</td>\n",
       "      <td>0</td>\n",
       "      <td>0</td>\n",
       "      <td>0</td>\n",
       "      <td>2</td>\n",
       "      <td>2</td>\n",
       "      <td>9118.0</td>\n",
       "      <td>4469</td>\n",
       "      <td>18064</td>\n",
       "      <td>0.035792</td>\n",
       "    </tr>\n",
       "    <tr>\n",
       "      <th>2</th>\n",
       "      <td>0.699787</td>\n",
       "      <td>630000.0</td>\n",
       "      <td>69777.0</td>\n",
       "      <td>2.0</td>\n",
       "      <td>856.0</td>\n",
       "      <td>0</td>\n",
       "      <td>663264.0</td>\n",
       "      <td>202500.0</td>\n",
       "      <td>0</td>\n",
       "      <td>0</td>\n",
       "      <td>0</td>\n",
       "      <td>0</td>\n",
       "      <td>0</td>\n",
       "      <td>0</td>\n",
       "      <td>2</td>\n",
       "      <td>2</td>\n",
       "      <td>2175.0</td>\n",
       "      <td>4458</td>\n",
       "      <td>20038</td>\n",
       "      <td>0.019101</td>\n",
       "    </tr>\n",
       "    <tr>\n",
       "      <th>3</th>\n",
       "      <td>0.509677</td>\n",
       "      <td>1575000.0</td>\n",
       "      <td>49018.5</td>\n",
       "      <td>4.0</td>\n",
       "      <td>1805.0</td>\n",
       "      <td>2</td>\n",
       "      <td>1575000.0</td>\n",
       "      <td>315000.0</td>\n",
       "      <td>0</td>\n",
       "      <td>0</td>\n",
       "      <td>0</td>\n",
       "      <td>0</td>\n",
       "      <td>0</td>\n",
       "      <td>0</td>\n",
       "      <td>2</td>\n",
       "      <td>2</td>\n",
       "      <td>2000.0</td>\n",
       "      <td>1866</td>\n",
       "      <td>13976</td>\n",
       "      <td>0.026392</td>\n",
       "    </tr>\n",
       "    <tr>\n",
       "      <th>4</th>\n",
       "      <td>0.425687</td>\n",
       "      <td>625500.0</td>\n",
       "      <td>32067.0</td>\n",
       "      <td>3.0</td>\n",
       "      <td>821.0</td>\n",
       "      <td>1</td>\n",
       "      <td>625500.0</td>\n",
       "      <td>180000.0</td>\n",
       "      <td>1</td>\n",
       "      <td>1</td>\n",
       "      <td>0</td>\n",
       "      <td>0</td>\n",
       "      <td>0</td>\n",
       "      <td>0</td>\n",
       "      <td>2</td>\n",
       "      <td>2</td>\n",
       "      <td>4000.0</td>\n",
       "      <td>2191</td>\n",
       "      <td>13040</td>\n",
       "      <td>0.010032</td>\n",
       "    </tr>\n",
       "    <tr>\n",
       "      <th>...</th>\n",
       "      <td>...</td>\n",
       "      <td>...</td>\n",
       "      <td>...</td>\n",
       "      <td>...</td>\n",
       "      <td>...</td>\n",
       "      <td>...</td>\n",
       "      <td>...</td>\n",
       "      <td>...</td>\n",
       "      <td>...</td>\n",
       "      <td>...</td>\n",
       "      <td>...</td>\n",
       "      <td>...</td>\n",
       "      <td>...</td>\n",
       "      <td>...</td>\n",
       "      <td>...</td>\n",
       "      <td>...</td>\n",
       "      <td>...</td>\n",
       "      <td>...</td>\n",
       "      <td>...</td>\n",
       "      <td>...</td>\n",
       "    </tr>\n",
       "    <tr>\n",
       "      <th>48739</th>\n",
       "      <td>0.648575</td>\n",
       "      <td>270000.0</td>\n",
       "      <td>17473.5</td>\n",
       "      <td>1.0</td>\n",
       "      <td>684.0</td>\n",
       "      <td>0</td>\n",
       "      <td>412560.0</td>\n",
       "      <td>121500.0</td>\n",
       "      <td>0</td>\n",
       "      <td>0</td>\n",
       "      <td>0</td>\n",
       "      <td>0</td>\n",
       "      <td>0</td>\n",
       "      <td>0</td>\n",
       "      <td>3</td>\n",
       "      <td>3</td>\n",
       "      <td>9094.0</td>\n",
       "      <td>5169</td>\n",
       "      <td>19970</td>\n",
       "      <td>0.002042</td>\n",
       "    </tr>\n",
       "    <tr>\n",
       "      <th>48740</th>\n",
       "      <td>0.684596</td>\n",
       "      <td>495000.0</td>\n",
       "      <td>31909.5</td>\n",
       "      <td>4.0</td>\n",
       "      <td>0.0</td>\n",
       "      <td>2</td>\n",
       "      <td>622413.0</td>\n",
       "      <td>157500.0</td>\n",
       "      <td>1</td>\n",
       "      <td>1</td>\n",
       "      <td>0</td>\n",
       "      <td>0</td>\n",
       "      <td>0</td>\n",
       "      <td>0</td>\n",
       "      <td>2</td>\n",
       "      <td>2</td>\n",
       "      <td>3015.0</td>\n",
       "      <td>1149</td>\n",
       "      <td>11186</td>\n",
       "      <td>0.035792</td>\n",
       "    </tr>\n",
       "    <tr>\n",
       "      <th>48741</th>\n",
       "      <td>0.632770</td>\n",
       "      <td>315000.0</td>\n",
       "      <td>33205.5</td>\n",
       "      <td>3.0</td>\n",
       "      <td>838.0</td>\n",
       "      <td>1</td>\n",
       "      <td>315000.0</td>\n",
       "      <td>202500.0</td>\n",
       "      <td>0</td>\n",
       "      <td>0</td>\n",
       "      <td>0</td>\n",
       "      <td>0</td>\n",
       "      <td>0</td>\n",
       "      <td>0</td>\n",
       "      <td>2</td>\n",
       "      <td>2</td>\n",
       "      <td>2681.0</td>\n",
       "      <td>3037</td>\n",
       "      <td>15922</td>\n",
       "      <td>0.026392</td>\n",
       "    </tr>\n",
       "    <tr>\n",
       "      <th>48742</th>\n",
       "      <td>0.445701</td>\n",
       "      <td>450000.0</td>\n",
       "      <td>25128.0</td>\n",
       "      <td>2.0</td>\n",
       "      <td>2308.0</td>\n",
       "      <td>0</td>\n",
       "      <td>450000.0</td>\n",
       "      <td>225000.0</td>\n",
       "      <td>1</td>\n",
       "      <td>1</td>\n",
       "      <td>0</td>\n",
       "      <td>1</td>\n",
       "      <td>1</td>\n",
       "      <td>0</td>\n",
       "      <td>2</td>\n",
       "      <td>2</td>\n",
       "      <td>1461.0</td>\n",
       "      <td>2731</td>\n",
       "      <td>13968</td>\n",
       "      <td>0.018850</td>\n",
       "    </tr>\n",
       "    <tr>\n",
       "      <th>48743</th>\n",
       "      <td>0.456541</td>\n",
       "      <td>270000.0</td>\n",
       "      <td>24709.5</td>\n",
       "      <td>2.0</td>\n",
       "      <td>327.0</td>\n",
       "      <td>0</td>\n",
       "      <td>312768.0</td>\n",
       "      <td>135000.0</td>\n",
       "      <td>0</td>\n",
       "      <td>0</td>\n",
       "      <td>0</td>\n",
       "      <td>0</td>\n",
       "      <td>0</td>\n",
       "      <td>0</td>\n",
       "      <td>2</td>\n",
       "      <td>2</td>\n",
       "      <td>1072.0</td>\n",
       "      <td>633</td>\n",
       "      <td>13962</td>\n",
       "      <td>0.006629</td>\n",
       "    </tr>\n",
       "  </tbody>\n",
       "</table>\n",
       "<p>48744 rows × 20 columns</p>\n",
       "</div>"
      ],
      "text/plain": [
       "       EXT_SOURCE_2  AMT_GOODS_PRICE  AMT_ANNUITY  CNT_FAM_MEMBERS  \\\n",
       "0          0.789654         450000.0      20560.5              2.0   \n",
       "1          0.291656         180000.0      17370.0              2.0   \n",
       "2          0.699787         630000.0      69777.0              2.0   \n",
       "3          0.509677        1575000.0      49018.5              4.0   \n",
       "4          0.425687         625500.0      32067.0              3.0   \n",
       "...             ...              ...          ...              ...   \n",
       "48739      0.648575         270000.0      17473.5              1.0   \n",
       "48740      0.684596         495000.0      31909.5              4.0   \n",
       "48741      0.632770         315000.0      33205.5              3.0   \n",
       "48742      0.445701         450000.0      25128.0              2.0   \n",
       "48743      0.456541         270000.0      24709.5              2.0   \n",
       "\n",
       "       DAYS_LAST_PHONE_CHANGE  CNT_CHILDREN  AMT_CREDIT  AMT_INCOME_TOTAL  \\\n",
       "0                      1740.0             0    568800.0          135000.0   \n",
       "1                         0.0             0    222768.0           99000.0   \n",
       "2                       856.0             0    663264.0          202500.0   \n",
       "3                      1805.0             2   1575000.0          315000.0   \n",
       "4                       821.0             1    625500.0          180000.0   \n",
       "...                       ...           ...         ...               ...   \n",
       "48739                   684.0             0    412560.0          121500.0   \n",
       "48740                     0.0             2    622413.0          157500.0   \n",
       "48741                   838.0             1    315000.0          202500.0   \n",
       "48742                  2308.0             0    450000.0          225000.0   \n",
       "48743                   327.0             0    312768.0          135000.0   \n",
       "\n",
       "       LIVE_CITY_NOT_WORK_CITY  REG_CITY_NOT_WORK_CITY  \\\n",
       "0                            0                       0   \n",
       "1                            0                       0   \n",
       "2                            0                       0   \n",
       "3                            0                       0   \n",
       "4                            1                       1   \n",
       "...                        ...                     ...   \n",
       "48739                        0                       0   \n",
       "48740                        1                       1   \n",
       "48741                        0                       0   \n",
       "48742                        1                       1   \n",
       "48743                        0                       0   \n",
       "\n",
       "       REG_CITY_NOT_LIVE_CITY  LIVE_REGION_NOT_WORK_REGION  \\\n",
       "0                           0                            0   \n",
       "1                           0                            0   \n",
       "2                           0                            0   \n",
       "3                           0                            0   \n",
       "4                           0                            0   \n",
       "...                       ...                          ...   \n",
       "48739                       0                            0   \n",
       "48740                       0                            0   \n",
       "48741                       0                            0   \n",
       "48742                       0                            1   \n",
       "48743                       0                            0   \n",
       "\n",
       "       REG_REGION_NOT_WORK_REGION  REG_REGION_NOT_LIVE_REGION  \\\n",
       "0                               0                           0   \n",
       "1                               0                           0   \n",
       "2                               0                           0   \n",
       "3                               0                           0   \n",
       "4                               0                           0   \n",
       "...                           ...                         ...   \n",
       "48739                           0                           0   \n",
       "48740                           0                           0   \n",
       "48741                           0                           0   \n",
       "48742                           1                           0   \n",
       "48743                           0                           0   \n",
       "\n",
       "       REGION_RATING_CLIENT_W_CITY  REGION_RATING_CLIENT  DAYS_REGISTRATION  \\\n",
       "0                                2                     2             5170.0   \n",
       "1                                2                     2             9118.0   \n",
       "2                                2                     2             2175.0   \n",
       "3                                2                     2             2000.0   \n",
       "4                                2                     2             4000.0   \n",
       "...                            ...                   ...                ...   \n",
       "48739                            3                     3             9094.0   \n",
       "48740                            2                     2             3015.0   \n",
       "48741                            2                     2             2681.0   \n",
       "48742                            2                     2             1461.0   \n",
       "48743                            2                     2             1072.0   \n",
       "\n",
       "       DAYS_EMPLOYED  DAYS_BIRTH  REGION_POPULATION_RELATIVE  \n",
       "0               2329       19241                    0.018850  \n",
       "1               4469       18064                    0.035792  \n",
       "2               4458       20038                    0.019101  \n",
       "3               1866       13976                    0.026392  \n",
       "4               2191       13040                    0.010032  \n",
       "...              ...         ...                         ...  \n",
       "48739           5169       19970                    0.002042  \n",
       "48740           1149       11186                    0.035792  \n",
       "48741           3037       15922                    0.026392  \n",
       "48742           2731       13968                    0.018850  \n",
       "48743            633       13962                    0.006629  \n",
       "\n",
       "[48744 rows x 20 columns]"
      ]
     },
     "execution_count": 542,
     "metadata": {},
     "output_type": "execute_result"
    }
   ],
   "source": [
    "# Grab numeric columns\n",
    "numeric_cols = selected_df.drop(['SK_ID_CURR'], axis=1).select_dtypes(include='number')\n",
    "numeric_cols\n",
    "\n",
    "test_numeric_cols = test_selected_df.drop(['SK_ID_CURR'], axis=1).select_dtypes(include='number')\n",
    "test_numeric_cols"
   ]
  },
  {
   "cell_type": "code",
   "execution_count": 543,
   "id": "6f4beb7d",
   "metadata": {},
   "outputs": [
    {
     "name": "stdout",
     "output_type": "stream",
     "text": [
      "['EXT_SOURCE_2', 'AMT_GOODS_PRICE', 'AMT_ANNUITY', 'CNT_FAM_MEMBERS', 'DAYS_LAST_PHONE_CHANGE', 'CNT_CHILDREN', 'AMT_CREDIT', 'AMT_INCOME_TOTAL', 'LIVE_CITY_NOT_WORK_CITY', 'REG_CITY_NOT_WORK_CITY', 'REG_CITY_NOT_LIVE_CITY', 'LIVE_REGION_NOT_WORK_REGION', 'REG_REGION_NOT_WORK_REGION', 'REG_REGION_NOT_LIVE_REGION', 'REGION_RATING_CLIENT_W_CITY', 'REGION_RATING_CLIENT', 'DAYS_REGISTRATION', 'DAYS_EMPLOYED', 'DAYS_BIRTH', 'REGION_POPULATION_RELATIVE']\n",
      "['EXT_SOURCE_2', 'AMT_GOODS_PRICE', 'AMT_ANNUITY', 'CNT_FAM_MEMBERS', 'DAYS_LAST_PHONE_CHANGE', 'CNT_CHILDREN', 'AMT_CREDIT', 'AMT_INCOME_TOTAL', 'LIVE_CITY_NOT_WORK_CITY', 'REG_CITY_NOT_WORK_CITY', 'REG_CITY_NOT_LIVE_CITY', 'LIVE_REGION_NOT_WORK_REGION', 'REG_REGION_NOT_WORK_REGION', 'REG_REGION_NOT_LIVE_REGION', 'REGION_RATING_CLIENT_W_CITY', 'REGION_RATING_CLIENT', 'DAYS_REGISTRATION', 'DAYS_EMPLOYED', 'DAYS_BIRTH', 'REGION_POPULATION_RELATIVE']\n"
     ]
    }
   ],
   "source": [
    "# Create a list of numeric column names excluding target for imputations\n",
    "\n",
    "column_names = numeric_cols.columns.tolist()\n",
    "my_list = [x for x in column_names if x != 'TARGET']\n",
    "print(my_list)\n",
    "\n",
    "test_column_names = numeric_cols.columns.tolist()\n",
    "test_my_list = [x for x in column_names if x != 'TARGET']\n",
    "print(test_my_list)"
   ]
  },
  {
   "cell_type": "markdown",
   "id": "e8037c13",
   "metadata": {},
   "source": [
    "### N/a Imputer"
   ]
  },
  {
   "cell_type": "code",
   "execution_count": 544,
   "id": "a0598584",
   "metadata": {},
   "outputs": [],
   "source": [
    "# Create a SimpleImputer instance\n",
    "imputer = SimpleImputer(strategy='median')\n",
    "\n",
    "# Fit and transform the selected numeric columns\n",
    "selected_df.loc[:, my_list] = imputer.fit_transform(selected_df.loc[:, my_list])\n",
    "\n",
    "test_selected_df.loc[:, test_my_list] = imputer.fit_transform(test_selected_df.loc[:, test_my_list])"
   ]
  },
  {
   "cell_type": "markdown",
   "id": "f90bb82c",
   "metadata": {},
   "source": [
    "## Interaction Term"
   ]
  },
  {
   "cell_type": "code",
   "execution_count": 545,
   "id": "ee0816ce",
   "metadata": {},
   "outputs": [],
   "source": [
    "selected_df['CREDIT_TO_INCOME'] = selected_df['AMT_CREDIT']/selected_df['AMT_INCOME_TOTAL']\n",
    "\n",
    "test_selected_df['CREDIT_TO_INCOME'] = test_selected_df['AMT_CREDIT']/test_selected_df['AMT_INCOME_TOTAL']"
   ]
  },
  {
   "cell_type": "markdown",
   "id": "448d6104",
   "metadata": {},
   "source": [
    "### Standard Scaler to scale dataset"
   ]
  },
  {
   "cell_type": "code",
   "execution_count": 227,
   "id": "3a121b9b",
   "metadata": {},
   "outputs": [],
   "source": [
    "#scalar_list = ['EXT_SOURCE_2','AMT_GOODS_PRICE','AMT_ANNUITY','AMT_CREDIT','AMT_INCOME_TOTAL','REGION_RATING_CLIENT_W_CITY','REGION_RATING_CLIENT','CREDIT_TO_INCOME']"
   ]
  },
  {
   "cell_type": "code",
   "execution_count": 546,
   "id": "817f6e9a",
   "metadata": {},
   "outputs": [
    {
     "name": "stdout",
     "output_type": "stream",
     "text": [
      "(307508, 31)\n",
      "(48744, 30)\n"
     ]
    }
   ],
   "source": [
    "scaler = StandardScaler()\n",
    "\n",
    "# Fit and transform the selected columns\n",
    "selected_df[my_list] = scaler.fit_transform(selected_df[my_list])\n",
    "\n",
    "test_selected_df[test_my_list] = scaler.fit_transform(test_selected_df[test_my_list])\n",
    "\n",
    "print(selected_df.shape)\n",
    "print(test_selected_df.shape)"
   ]
  },
  {
   "cell_type": "markdown",
   "id": "5a8c701a",
   "metadata": {},
   "source": [
    "### Dummy Encoder "
   ]
  },
  {
   "cell_type": "code",
   "execution_count": 547,
   "id": "838f390c",
   "metadata": {},
   "outputs": [
    {
     "name": "stdout",
     "output_type": "stream",
     "text": [
      "(307508, 110)\n",
      "(48744, 106)\n",
      "set()\n",
      "{'NAME_FAMILY_STATUS_Unknown', 'TARGET', 'CODE_GENDER_XNA', 'NAME_INCOME_TYPE_Maternity leave'}\n",
      "(307508, 107)\n",
      "(48744, 106)\n"
     ]
    }
   ],
   "source": [
    "# dummy encoding data set\n",
    "\n",
    "selected_df = pd.get_dummies(selected_df, drop_first=True)\n",
    "\n",
    "test_selected_df = pd.get_dummies(test_selected_df, drop_first=True)\n",
    "\n",
    "print(selected_df.shape)\n",
    "print(test_selected_df.shape)\n",
    "\n",
    "print(set(test_selected_df)-set(selected_df))\n",
    "print(set(selected_df)-set(test_selected_df))\n",
    "\n",
    "columns_to_drop = set(selected_df.columns) - set(test_selected_df.columns)\n",
    "columns_to_drop.discard('TARGET')\n",
    "selected_df = selected_df.drop(columns=list(columns_to_drop), axis=1)\n",
    "\n",
    "print(selected_df.shape)\n",
    "print(test_selected_df.shape)"
   ]
  },
  {
   "cell_type": "markdown",
   "id": "10a52f59",
   "metadata": {},
   "source": [
    "### Splitting Target and Predictors"
   ]
  },
  {
   "cell_type": "code",
   "execution_count": 548,
   "id": "9fa69c83",
   "metadata": {},
   "outputs": [],
   "source": [
    "X = selected_df.drop(columns=['TARGET', 'SK_ID_CURR'])\n",
    "y = selected_df['TARGET']"
   ]
  },
  {
   "cell_type": "markdown",
   "id": "fbd6a567",
   "metadata": {},
   "source": [
    "## Logistic Regression "
   ]
  },
  {
   "cell_type": "code",
   "execution_count": 549,
   "id": "393953e5",
   "metadata": {},
   "outputs": [
    {
     "name": "stdout",
     "output_type": "stream",
     "text": [
      "Train Accuracy: 0.9192703929653863\n",
      "Train R2 =  0.9192703929653863\n"
     ]
    }
   ],
   "source": [
    "# Initializing and training the logistic regression model\n",
    "log_reg = LogisticRegression(max_iter = 1000)\n",
    "log_reg.fit(X, y)\n",
    "\n",
    "# Making predictions on the validation set\n",
    "y_pred = log_reg.predict(X)\n",
    "\n",
    "# Calculating the accuracy of the model\n",
    "accuracy = accuracy_score(y, y_pred)\n",
    "print(\"Train Accuracy:\", accuracy)\n",
    "print(\"Train R2 = \", log_reg.score(X, y))"
   ]
  },
  {
   "cell_type": "markdown",
   "id": "f6e72719",
   "metadata": {},
   "source": [
    "## Cross Validation"
   ]
  },
  {
   "cell_type": "markdown",
   "id": "29bf733c",
   "metadata": {},
   "source": [
    "### Mean Squared Error"
   ]
  },
  {
   "cell_type": "code",
   "execution_count": 232,
   "id": "c5764341",
   "metadata": {},
   "outputs": [],
   "source": [
    "\n",
    "\n",
    "# Call the function  and define a scoring function - set it as \"neg_mean_squared_error\"\n",
    "log_scores = cross_val_score(log_reg, \n",
    "                             X, \n",
    "                             y,\n",
    "                             scoring=\"neg_mean_squared_error\",   # higher return values are better for this function\n",
    "                             cv=10                               # create 10 folds\n",
    ")\n",
    "\n",
    "# to obtain RMSE, we need to negate the scores obtained  from cross_val_score and take the sqrt.\n",
    "# this returns an array of 10 values\n",
    "log_rmse_scores = np.sqrt(-log_scores)\n"
   ]
  },
  {
   "cell_type": "code",
   "execution_count": 233,
   "id": "990cc6e2",
   "metadata": {},
   "outputs": [],
   "source": [
    "def display_scores(scores):\n",
    "    print(\"Scores:\", scores)\n",
    "    print(\"Mean:\", scores.mean())\n",
    "    print(\"Standard deviation:\", scores.std())"
   ]
  },
  {
   "cell_type": "code",
   "execution_count": 234,
   "id": "e8014dc7",
   "metadata": {},
   "outputs": [
    {
     "name": "stdout",
     "output_type": "stream",
     "text": [
      "Scores: [0.28415725 0.28398553 0.28415725 0.28410002 0.28427167 0.28421446\n",
      " 0.28410002 0.28415725 0.28410464 0.28410464]\n",
      "Mean: 0.28413527334467237\n",
      "Standard deviation: 7.287410277437027e-05\n"
     ]
    }
   ],
   "source": [
    "display_scores(log_rmse_scores)"
   ]
  },
  {
   "cell_type": "markdown",
   "id": "75ca95dc",
   "metadata": {},
   "source": [
    "### R Squared"
   ]
  },
  {
   "cell_type": "code",
   "execution_count": 235,
   "id": "a0db95d9",
   "metadata": {},
   "outputs": [
    {
     "name": "stdout",
     "output_type": "stream",
     "text": [
      "Scores: [-0.08823763 -0.08692281 -0.08823763 -0.08779936 -0.08871407 -0.08827595\n",
      " -0.08739972 -0.08783784 -0.08780246 -0.08780246]\n",
      "Mean: -0.08790299290131771\n",
      "Standard deviation: 0.0004764610029136554\n"
     ]
    }
   ],
   "source": [
    "log_r2_scores = cross_val_score(log_reg, \n",
    "                             X, y,\n",
    "                             scoring=\"r2\", \n",
    "                             cv=10)\n",
    "display_scores(log_r2_scores)"
   ]
  },
  {
   "cell_type": "code",
   "execution_count": 550,
   "id": "b2d0d463",
   "metadata": {},
   "outputs": [
    {
     "name": "stdout",
     "output_type": "stream",
     "text": [
      "Scores: [0.6903184  0.70347096 0.70158538 0.70195599 0.69615938 0.74887839\n",
      " 0.70074192 0.67980056 0.69521011 0.69968139]\n",
      "Mean: 0.7017802488408945\n",
      "Standard deviation: 0.01707597037971625\n"
     ]
    }
   ],
   "source": [
    "log_auc_scores = cross_val_score(log_reg, \n",
    "                             X, \n",
    "                             y,\n",
    "                             scoring=\"roc_auc\", \n",
    "                             cv=10                               \n",
    ")\n",
    "log_mean_auc = np.mean(log_auc_scores)\n",
    "display_scores(log_auc_scores)"
   ]
  },
  {
   "cell_type": "markdown",
   "id": "15926070",
   "metadata": {},
   "source": [
    "## XGboost"
   ]
  },
  {
   "cell_type": "code",
   "execution_count": 551,
   "id": "9a2589f0",
   "metadata": {},
   "outputs": [
    {
     "name": "stdout",
     "output_type": "stream",
     "text": [
      "Train Accuracy: 0.9194817695799784\n",
      "Train Accuracy using built-in score: 0.9194817695799784\n"
     ]
    }
   ],
   "source": [
    "\n",
    "xgb_clf = XGBClassifier(use_label_encoder=False, \n",
    "                        eval_metric='logloss', \n",
    "                        n_estimators=100, \n",
    "                        max_depth=4\n",
    "                        )\n",
    "\n",
    "xgb_clf.fit(X, y)\n",
    "\n",
    "xgb_y_pred = xgb_clf.predict(X)\n",
    "\n",
    "xgb_accuracy = accuracy_score(y, xgb_y_pred)\n",
    "\n",
    "print(\"Train Accuracy:\", xgb_accuracy)\n",
    "print(\"Train Accuracy using built-in score:\", xgb_clf.score(X, y))"
   ]
  },
  {
   "cell_type": "code",
   "execution_count": 552,
   "id": "6b3648bf",
   "metadata": {},
   "outputs": [
    {
     "name": "stdout",
     "output_type": "stream",
     "text": [
      "Scores: [0.70159317 0.71958385 0.71949374 0.71601226 0.71604402 0.75610023\n",
      " 0.71818085 0.69783179 0.71091463 0.71473086]\n",
      "Mean: 0.7170485401981802\n",
      "Standard deviation: 0.014805251018788513\n"
     ]
    }
   ],
   "source": [
    "xgb_auc_scores = cross_val_score(xgb_clf, \n",
    "                             X, \n",
    "                             y,\n",
    "                             scoring=\"roc_auc\", \n",
    "                             cv=10                               \n",
    ")\n",
    "xgb_mean_auc = np.mean(xgb_auc_scores)\n",
    "display_scores(xgb_auc_scores)"
   ]
  },
  {
   "cell_type": "code",
   "execution_count": 553,
   "id": "180e0966",
   "metadata": {},
   "outputs": [
    {
     "data": {
      "image/png": "[encoded data removed]",
      "text/plain": [
       "<Figure size 800x600 with 2 Axes>"
      ]
     },
     "metadata": {},
     "output_type": "display_data"
    }
   ],
   "source": [
    "xgb_cm = confusion_matrix(y, xgb_y_pred)\n",
    "\n",
    "# Visualizing the confusion matrix\n",
    "plt.figure(figsize=(8,6))\n",
    "sns.heatmap(xgb_cm, annot=True, fmt='d', cmap='Blues', xticklabels=['Negative', 'Positive'], yticklabels=['Negative', 'Positive'])\n",
    "plt.xlabel('Predicted labels')\n",
    "plt.ylabel('True labels')\n",
    "plt.title('Confusion Matrix for XGBoost Classifier')\n",
    "plt.show()\n"
   ]
  },
  {
   "cell_type": "markdown",
   "id": "0bb84b9d",
   "metadata": {},
   "source": [
    "## Random Forest"
   ]
  },
  {
   "cell_type": "code",
   "execution_count": 554,
   "id": "90be0fc3",
   "metadata": {},
   "outputs": [
    {
     "name": "stdout",
     "output_type": "stream",
     "text": [
      "Train Accuracy: 0.9192736449133031\n",
      "Train Accuracy using built-in score: 0.9192736449133031\n"
     ]
    }
   ],
   "source": [
    "rf_clf = RandomForestClassifier(n_estimators=100, \n",
    "                                max_depth=3, \n",
    "                                random_state=42)\n",
    "\n",
    "rf_clf.fit(X, y)\n",
    "\n",
    "rf_y_pred = rf_clf.predict(X)\n",
    "\n",
    "accuracy = accuracy_score(y, rf_y_pred)\n",
    "print(\"Train Accuracy:\", accuracy)\n",
    "print(\"Train Accuracy using built-in score:\", rf_clf.score(X, y))"
   ]
  },
  {
   "cell_type": "code",
   "execution_count": 555,
   "id": "6af1359a",
   "metadata": {},
   "outputs": [
    {
     "name": "stdout",
     "output_type": "stream",
     "text": [
      "Scores: [0.67240339 0.69188024 0.68495328 0.69081688 0.68175286 0.73026507\n",
      " 0.68618528 0.66547121 0.67272217 0.68027047]\n",
      "Mean: 0.6856720847124399\n",
      "Standard deviation: 0.016884004092099194\n"
     ]
    }
   ],
   "source": [
    "rf_auc_scores = cross_val_score(rf_clf, \n",
    "                             X, \n",
    "                             y,\n",
    "                             scoring=\"roc_auc\", \n",
    "                             cv=10                               \n",
    ")\n",
    "rf_mean_auc = np.mean(rf_auc_scores)\n",
    "display_scores(rf_auc_scores)"
   ]
  },
  {
   "cell_type": "code",
   "execution_count": 242,
   "id": "e82f2557",
   "metadata": {},
   "outputs": [
    {
     "data": {
      "image/png": "[encoded data removed]",
      "text/plain": [
       "<Figure size 800x600 with 2 Axes>"
      ]
     },
     "metadata": {},
     "output_type": "display_data"
    }
   ],
   "source": [
    "rf_cm = confusion_matrix(y, rf_y_pred)\n",
    "\n",
    "# Visualizing the confusion matrix\n",
    "plt.figure(figsize=(8,6))\n",
    "sns.heatmap(rf_cm, annot=True, fmt='d', cmap='Blues', xticklabels=['Negative', 'Positive'], yticklabels=['Negative', 'Positive'])\n",
    "plt.xlabel('Predicted labels')\n",
    "plt.ylabel('True labels')\n",
    "plt.title('Confusion Matrix for Random Forest Classifier')\n",
    "plt.show()"
   ]
  },
  {
   "cell_type": "code",
   "execution_count": 243,
   "id": "3692ad88",
   "metadata": {},
   "outputs": [
    {
     "data": {
      "image/png": "[encoded data removed]",
      "text/plain": [
       "<Figure size 2000x1000 with 1 Axes>"
      ]
     },
     "metadata": {},
     "output_type": "display_data"
    }
   ],
   "source": [
    "single_tree = rf_clf.estimators_[0]\n",
    "\n",
    "plt.figure(figsize=(20,10))\n",
    "plot_tree(single_tree, filled=True, feature_names=X.columns, class_names=True, rounded=True)\n",
    "plt.show()"
   ]
  }
 ],
 "metadata": {
  "kernelspec": {
   "display_name": "Python 3 (ipykernel)",
   "language": "python",
   "name": "python3"
  },
  "language_info": {
   "codemirror_mode": {
    "name": "ipython",
    "version": 3
   },
   "file_extension": ".py",
   "mimetype": "text/x-python",
   "name": "python",
   "nbconvert_exporter": "python",
   "pygments_lexer": "ipython3",
   "version": "3.12.2"
  },
  "toc": {
   "base_numbering": 1,
   "nav_menu": {},
   "number_sections": false,
   "sideBar": true,
   "skip_h1_title": false,
   "title_cell": "Table of Contents",
   "title_sidebar": "Contents",
   "toc_cell": false,
   "toc_position": {
    "height": "calc(100% - 180px)",
    "left": "10px",
    "top": "150px",
    "width": "342px"
   },
   "toc_section_display": true,
   "toc_window_display": true
  },
  "varInspector": {
   "cols": {
    "lenName": 16,
    "lenType": 16,
    "lenVar": 40
   },
   "kernels_config": {
    "python": {
     "delete_cmd_postfix": "",
     "delete_cmd_prefix": "del ",
     "library": "var_list.py",
     "varRefreshCmd": "print(var_dic_list())"
    },
    "r": {
     "delete_cmd_postfix": ") ",
     "delete_cmd_prefix": "rm(",
     "library": "var_list.r",
     "varRefreshCmd": "cat(var_dic_list()) "
    }
   },
   "types_to_exclude": [
    "module",
    "function",
    "builtin_function_or_method",
    "instance",
    "_Feature"
   ],
   "window_display": false
  }
 },
 "nbformat": 4,
 "nbformat_minor": 5
}
